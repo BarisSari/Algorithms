{
  "nbformat": 4,
  "nbformat_minor": 0,
  "metadata": {
    "colab": {
      "name": "Overfitting, Underfitting, Cross Validation, Polynomial Regression",
      "provenance": [],
      "collapsed_sections": [],
      "include_colab_link": true
    },
    "kernelspec": {
      "name": "python3",
      "display_name": "Python 3"
    },
    "accelerator": "GPU"
  },
  "cells": [
    {
      "cell_type": "markdown",
      "metadata": {
        "id": "view-in-github",
        "colab_type": "text"
      },
      "source": [
        "<a href=\"https://colab.research.google.com/github/BarisSari/Algorithms/blob/master/Overfitting%2C_Underfitting%2C_Cross_Validation%2C_Polynomial_Regression.ipynb\" target=\"_parent\"><img src=\"https://colab.research.google.com/assets/colab-badge.svg\" alt=\"Open In Colab\"/></a>"
      ]
    },
    {
      "cell_type": "code",
      "metadata": {
        "id": "_wWqCEbuQCom",
        "colab_type": "code",
        "colab": {}
      },
      "source": [
        "import matplotlib.pylab as plt\n",
        "import numpy as np\n",
        "%matplotlib inline\n",
        "from sklearn.linear_model import LinearRegression\n",
        "from sklearn import datasets"
      ],
      "execution_count": 0,
      "outputs": []
    },
    {
      "cell_type": "code",
      "metadata": {
        "id": "RWLU0gh2Qja8",
        "colab_type": "code",
        "colab": {}
      },
      "source": [
        "diabetes = datasets.load_diabetes() # load data"
      ],
      "execution_count": 0,
      "outputs": []
    },
    {
      "cell_type": "code",
      "metadata": {
        "id": "LZua7pa9Qo8n",
        "colab_type": "code",
        "outputId": "499f4681-e2b5-4aca-e61c-c605cb95e36e",
        "colab": {
          "base_uri": "https://localhost:8080/",
          "height": 34
        }
      },
      "source": [
        "diabetes.data.shape # feature matrix shape"
      ],
      "execution_count": 0,
      "outputs": [
        {
          "output_type": "execute_result",
          "data": {
            "text/plain": [
              "(442, 10)"
            ]
          },
          "metadata": {
            "tags": []
          },
          "execution_count": 3
        }
      ]
    },
    {
      "cell_type": "code",
      "metadata": {
        "id": "IS0o44xHQspS",
        "colab_type": "code",
        "outputId": "f72356ce-b8a3-4dc9-fc5d-f536d5fa2a07",
        "colab": {
          "base_uri": "https://localhost:8080/",
          "height": 34
        }
      },
      "source": [
        "diabetes.target.shape # target vector shape"
      ],
      "execution_count": 0,
      "outputs": [
        {
          "output_type": "execute_result",
          "data": {
            "text/plain": [
              "(442,)"
            ]
          },
          "metadata": {
            "tags": []
          },
          "execution_count": 4
        }
      ]
    },
    {
      "cell_type": "code",
      "metadata": {
        "id": "NkrZLAq_QvFt",
        "colab_type": "code",
        "outputId": "71e4f200-3cfe-4fe7-ea30-b3d802a79688",
        "colab": {
          "base_uri": "https://localhost:8080/",
          "height": 34
        }
      },
      "source": [
        "diabetes.feature_names # column names"
      ],
      "execution_count": 0,
      "outputs": [
        {
          "output_type": "execute_result",
          "data": {
            "text/plain": [
              "['age', 'sex', 'bmi', 'bp', 's1', 's2', 's3', 's4', 's5', 's6']"
            ]
          },
          "metadata": {
            "tags": []
          },
          "execution_count": 5
        }
      ]
    },
    {
      "cell_type": "markdown",
      "metadata": {
        "id": "YRDfyfOT_Jv8",
        "colab_type": "text"
      },
      "source": [
        "When training on data, we don't want to use all of our data to train the model, because we want to section off some data for us to test the models performance. The reason why we can't just use the data the model was trained on to judge the model's performance is because that would give an overly optimistic view on how the model is doing. It's like giving you the exact same test to practice on as the one you will take on test day. "
      ]
    },
    {
      "cell_type": "code",
      "metadata": {
        "id": "898xTGU4Qy_L",
        "colab_type": "code",
        "colab": {}
      },
      "source": [
        "from sklearn.model_selection import train_test_split\n",
        "X_train, X_test, y_train, y_test = train_test_split(diabetes.data, diabetes.target, test_size=0.2, random_state=0)"
      ],
      "execution_count": 0,
      "outputs": []
    },
    {
      "cell_type": "markdown",
      "metadata": {
        "id": "e0vxMs3ZACUx",
        "colab_type": "text"
      },
      "source": [
        "There are three steps to getting a model up and running in sklearn. \n",
        "1. Set up the model\n",
        "2. Fit the model \n",
        "3. Check the score"
      ]
    },
    {
      "cell_type": "code",
      "metadata": {
        "id": "faOiMumaQ2Gg",
        "colab_type": "code",
        "outputId": "3e6f0552-be8e-40d5-ec9d-ff977a61847b",
        "colab": {
          "base_uri": "https://localhost:8080/",
          "height": 34
        }
      },
      "source": [
        "# 1. Set up the model\n",
        "model = LinearRegression()\n",
        "# 2. Use fit\n",
        "model.fit(X_train, y_train)\n",
        "# 3. Check the score\n",
        "print(model.score(X_test, y_test))\n",
        "model_final = model"
      ],
      "execution_count": 0,
      "outputs": [
        {
          "output_type": "stream",
          "text": [
            "0.33222203269065176\n"
          ],
          "name": "stdout"
        }
      ]
    },
    {
      "cell_type": "markdown",
      "metadata": {
        "id": "hyLlVttozVZ3",
        "colab_type": "text"
      },
      "source": [
        "![alt text](https://www.statisticshowto.datasciencecentral.com/wp-content/uploads/2016/10/root-mean-square-error.png)\n",
        "\n",
        "This is the loss function so that the model can see how well it is predicting and adjust."
      ]
    },
    {
      "cell_type": "code",
      "metadata": {
        "id": "oDvwWdIVQ4wZ",
        "colab_type": "code",
        "outputId": "fa2f9887-6a3b-4b81-ab37-4d406f2f0468",
        "colab": {
          "base_uri": "https://localhost:8080/",
          "height": 68
        }
      },
      "source": [
        "model.coef_ # Get the coefficients, beta"
      ],
      "execution_count": 0,
      "outputs": [
        {
          "output_type": "execute_result",
          "data": {
            "text/plain": [
              "array([ -35.55683674, -243.1692265 ,  562.75404632,  305.47203008,\n",
              "       -662.78772128,  324.27527477,   24.78193291,  170.33056502,\n",
              "        731.67810787,   43.02846824])"
            ]
          },
          "metadata": {
            "tags": []
          },
          "execution_count": 8
        }
      ]
    },
    {
      "cell_type": "code",
      "metadata": {
        "id": "JP0JU0o-RA98",
        "colab_type": "code",
        "outputId": "bef3bf55-e001-409c-a705-87d88f451312",
        "colab": {
          "base_uri": "https://localhost:8080/",
          "height": 34
        }
      },
      "source": [
        "model.intercept_ # Get the intercept, c"
      ],
      "execution_count": 0,
      "outputs": [
        {
          "output_type": "execute_result",
          "data": {
            "text/plain": [
              "152.5381335195406"
            ]
          },
          "metadata": {
            "tags": []
          },
          "execution_count": 9
        }
      ]
    },
    {
      "cell_type": "code",
      "metadata": {
        "id": "Dc02JoQ3RBnE",
        "colab_type": "code",
        "outputId": "197a0b12-eb0e-4892-8e9d-7924b25fe287",
        "colab": {
          "base_uri": "https://localhost:8080/",
          "height": 408
        }
      },
      "source": [
        "model.predict(X_test) # Predict unkown data"
      ],
      "execution_count": 0,
      "outputs": [
        {
          "output_type": "execute_result",
          "data": {
            "text/plain": [
              "array([238.47145247, 248.93170646, 164.05404165, 120.30794355,\n",
              "       187.42422054, 259.04865002, 113.55556372, 188.07597044,\n",
              "       149.49663441, 236.01099949, 172.24629506, 178.88073764,\n",
              "       109.15751983,  92.13508975, 243.33042043,  87.356971  ,\n",
              "       155.72606406,  66.99073989, 100.42610442, 218.09422877,\n",
              "       196.66287912, 161.29832968, 161.70779605, 156.52520454,\n",
              "       197.88796516, 167.57984206, 120.74478913,  84.83879727,\n",
              "       192.03728687, 160.60687024, 175.17178362,  84.22833237,\n",
              "       145.7995542 , 145.97333493, 140.96488953, 197.00421108,\n",
              "       165.94322494, 190.65906468, 128.22520508, 206.41941223,\n",
              "        84.35851196, 164.0256504 , 144.1056776 , 184.68355549,\n",
              "       177.80238966,  74.32855231, 143.3660286 , 138.67726085,\n",
              "       120.81146113, 234.34252077, 161.94390244,  74.5455476 ,\n",
              "       154.71905074, 156.78884927, 237.42227096, 174.23053048,\n",
              "       190.88212635, 118.98373473, 132.20418974, 168.52674824,\n",
              "       214.74245466, 171.42364091, 157.37409906, 108.86927343,\n",
              "       257.06329636, 152.17777143,  82.43686464, 231.56746032,\n",
              "       202.90641336,  47.18340199,  78.46954525, 129.30170908,\n",
              "       104.60253144, 144.65200281, 132.27974254, 190.04134164,\n",
              "        97.55541138, 197.51891007, 219.13709291, 186.13797012,\n",
              "       149.60913007, 208.42379455,  44.59036026, 206.20925368,\n",
              "        76.77377721,  94.94046865, 145.2955051 , 194.03776373,\n",
              "       132.78534336])"
            ]
          },
          "metadata": {
            "tags": []
          },
          "execution_count": 10
        }
      ]
    },
    {
      "cell_type": "code",
      "metadata": {
        "id": "aGXrS3pxRERp",
        "colab_type": "code",
        "outputId": "f80f00f9-9954-49c2-d90f-2bc90278650d",
        "colab": {
          "base_uri": "https://localhost:8080/",
          "height": 269
        }
      },
      "source": [
        "# plot prediction and actual data\n",
        "y_pred = model.predict(X_test) \n",
        "plt.plot(y_test, y_pred, '.')\n",
        "\n",
        "# plot a line, a perfit predict would all fall on this line\n",
        "x = np.linspace(0, 330, 100)\n",
        "y = x\n",
        "plt.plot(x, y)\n",
        "plt.show()"
      ],
      "execution_count": 0,
      "outputs": [
        {
          "output_type": "display_data",
          "data": {
            "image/png": "[encoded data removed]",
            "text/plain": [
              "<Figure size 432x288 with 1 Axes>"
            ]
          },
          "metadata": {
            "tags": []
          }
        }
      ]
    },
    {
      "cell_type": "code",
      "metadata": {
        "id": "MKD5jfdSDoKD",
        "colab_type": "code",
        "outputId": "c43ab40e-f7e1-419c-e5e9-8ee7ef8945a2",
        "colab": {
          "base_uri": "https://localhost:8080/",
          "height": 102
        }
      },
      "source": [
        "from sklearn.metrics import mean_squared_error, r2_score\n",
        "print('Coefficients: \\n', model.coef_)\n",
        "# The mean squared error\n",
        "print(\"Mean squared error: %.2f\"\n",
        "      % mean_squared_error(y_test, y_pred))\n",
        "# Explained variance score: 1 is perfect prediction\n",
        "print('Variance score: %.2f' % r2_score(y_test, y_pred))"
      ],
      "execution_count": 0,
      "outputs": [
        {
          "output_type": "stream",
          "text": [
            "Coefficients: \n",
            " [ -35.55683674 -243.1692265   562.75404632  305.47203008 -662.78772128\n",
            "  324.27527477   24.78193291  170.33056502  731.67810787   43.02846824]\n",
            "Mean squared error: 3424.32\n",
            "Variance score: 0.33\n"
          ],
          "name": "stdout"
        }
      ]
    },
    {
      "cell_type": "markdown",
      "metadata": {
        "id": "FHso7DpzyXVV",
        "colab_type": "text"
      },
      "source": [
        "# Overfitting and Underfitting"
      ]
    },
    {
      "cell_type": "markdown",
      "metadata": {
        "id": "x8VSoy-gyu6I",
        "colab_type": "text"
      },
      "source": [
        "Underfitting is when models does not perform well on the training data of the test data. It is not able to capture the actual relationship between the features and the output, and instead has a strong preconcieved notion of what the relatioinship is."
      ]
    },
    {
      "cell_type": "markdown",
      "metadata": {
        "id": "F8obB7hMQsAo",
        "colab_type": "text"
      },
      "source": [
        "![alt text](https://miro.medium.com/max/1564/1*Gl5dciQc0H72vnZr5vIGqA.png)"
      ]
    },
    {
      "cell_type": "markdown",
      "metadata": {
        "id": "UKxednsNQ9tr",
        "colab_type": "text"
      },
      "source": [
        "Overfitting is when models perform very well on the training data but perform poorly on the test data. The model is able to fit training points very closely,  but cannot generalize well to new examples because it has learned a relationship that is overly complex and overly specialized to the training set. "
      ]
    },
    {
      "cell_type": "markdown",
      "metadata": {
        "id": "5h9Ov0N1SS6L",
        "colab_type": "text"
      },
      "source": [
        "![alt text](https://ardianumam.files.wordpress.com/2017/09/overfitting1.jpg)\n"
      ]
    },
    {
      "cell_type": "code",
      "metadata": {
        "id": "jP0fRi81RgSe",
        "colab_type": "code",
        "outputId": "b4c51dfb-ca3c-4ca2-de16-48bd168faa3a",
        "colab": {
          "base_uri": "https://localhost:8080/",
          "height": 51
        }
      },
      "source": [
        "print(\"Testing accuracy: \", model.score(X_test, y_test))\n",
        "print(\"Training accuracy: \", model.score(X_train, y_train))"
      ],
      "execution_count": 0,
      "outputs": [
        {
          "output_type": "stream",
          "text": [
            "Testing accuracy:  0.33222203269065176\n",
            "Training accuracy:  0.5539285357415583\n"
          ],
          "name": "stdout"
        }
      ]
    },
    {
      "cell_type": "markdown",
      "metadata": {
        "id": "OLAcct1JSAi3",
        "colab_type": "text"
      },
      "source": [
        "Our testing accuracy and training accuracy are both pretty low. That may be a sign that our model has underfit the training data."
      ]
    },
    {
      "cell_type": "markdown",
      "metadata": {
        "id": "OuOV1NHnUIgA",
        "colab_type": "text"
      },
      "source": [
        "One way we can reduce underfitting is by adding on polynomial features, meaning we take on of our features, square it, or cube it, or multiply with another feature, and then add that as another data column. That way, our model has essentially more to go off of when it learns. Here, PolynomialFeatures is a tool provided by the sklearn library that can easily create those polynomial features for us, and we can easily select the degree we want. Right now, we are using a degree of two, which is a quadratic fit."
      ]
    },
    {
      "cell_type": "code",
      "metadata": {
        "id": "SuHT3M94UZiZ",
        "colab_type": "code",
        "outputId": "9d403f51-3c38-4dfd-b4ef-a5bb29bdf821",
        "colab": {
          "base_uri": "https://localhost:8080/",
          "height": 34
        }
      },
      "source": [
        "from sklearn.preprocessing import PolynomialFeatures\n",
        "poly = PolynomialFeatures(degree = 2)\n",
        "poly_features = poly.fit_transform(diabetes.data[:, 0:3])\n",
        "poly_features = np.delete(poly_features, (0, 1, 2), 1)\n",
        "poly_data = np.concatenate((diabetes.data, poly_features), axis = 1)\n",
        "print(poly_data.shape)\n",
        "X_train2, X_test2, y_train2, y_test2 = train_test_split(poly_data, diabetes.target, test_size=0.2, random_state=0)"
      ],
      "execution_count": 0,
      "outputs": [
        {
          "output_type": "stream",
          "text": [
            "(442, 17)\n"
          ],
          "name": "stdout"
        }
      ]
    },
    {
      "cell_type": "code",
      "metadata": {
        "id": "X2rfpcj1frxY",
        "colab_type": "code",
        "outputId": "4ed888f8-fc5a-4ba3-fb08-2ffccb359f8f",
        "colab": {
          "base_uri": "https://localhost:8080/",
          "height": 51
        }
      },
      "source": [
        "model.fit(X_train2, y_train2)\n",
        "print(model.score(X_test2, y_test2))\n",
        "print(model.score(X_train2, y_train2))"
      ],
      "execution_count": 0,
      "outputs": [
        {
          "output_type": "stream",
          "text": [
            "0.35292669507760577\n",
            "0.5794148059518287\n"
          ],
          "name": "stdout"
        }
      ]
    },
    {
      "cell_type": "markdown",
      "metadata": {
        "id": "vw-uaoCbiH76",
        "colab_type": "text"
      },
      "source": [
        "We are doing marginally better. We essentially did this to our model. We turned the linear fit into a quadratic fit.\n",
        "![This is not our data](https://animoidin.files.wordpress.com/2018/07/polim_vs_linear.jpg?w=909&h=584&crop=1)"
      ]
    },
    {
      "cell_type": "markdown",
      "metadata": {
        "id": "yVpclFmWjREO",
        "colab_type": "text"
      },
      "source": [
        "The degree of two was one I randomly selected. What happens if I select a degree of 8?"
      ]
    },
    {
      "cell_type": "code",
      "metadata": {
        "id": "XmklfQWvjoce",
        "colab_type": "code",
        "outputId": "45cf2902-9d8f-4e03-e5cd-85e98ee6c1cb",
        "colab": {
          "base_uri": "https://localhost:8080/",
          "height": 34
        }
      },
      "source": [
        "poly = PolynomialFeatures(degree = 8)\n",
        "poly10_features = poly.fit_transform(diabetes.data[:, 0:3])\n",
        "poly10_features = np.delete(poly10_features, (0, 1, 2), 1)\n",
        "poly10_data = np.concatenate((diabetes.data, poly10_features), axis = 1)\n",
        "print(poly10_data.shape)\n",
        "X_train10, X_test10, y_train10, y_test10 = train_test_split(poly10_data, diabetes.target, test_size=0.2, random_state=0)"
      ],
      "execution_count": 0,
      "outputs": [
        {
          "output_type": "stream",
          "text": [
            "(442, 172)\n"
          ],
          "name": "stdout"
        }
      ]
    },
    {
      "cell_type": "code",
      "metadata": {
        "id": "Uc8ttoGxkAQv",
        "colab_type": "code",
        "outputId": "1d650db8-6ea6-4161-a9bc-235c7840bc1c",
        "colab": {
          "base_uri": "https://localhost:8080/",
          "height": 51
        }
      },
      "source": [
        "model.fit(X_train10, y_train10)\n",
        "print(model.score(X_train10, y_train10))\n",
        "print(model.score(X_test10, y_test10))"
      ],
      "execution_count": 0,
      "outputs": [
        {
          "output_type": "stream",
          "text": [
            "0.6486828967643996\n",
            "0.18729864038150798\n"
          ],
          "name": "stdout"
        }
      ]
    },
    {
      "cell_type": "markdown",
      "metadata": {
        "id": "3UWi0H0H8IOc",
        "colab_type": "text"
      },
      "source": [
        "Here we can see that the score on the training set is better, but the score on the test set is a lot worse. This is what we were just talking about, overfitting. Clearly the degree of the polynomial we choose has a lot to do with whether our model will underfit or overfit. But we can't just keep trying random degrees until we hit the right one. That's why we'll use cross validation instead."
      ]
    },
    {
      "cell_type": "markdown",
      "metadata": {
        "id": "_myO5qHiymsO",
        "colab_type": "text"
      },
      "source": [
        "#Cross Validation"
      ]
    },
    {
      "cell_type": "markdown",
      "metadata": {
        "id": "hFF7dZXSjBGu",
        "colab_type": "text"
      },
      "source": [
        "We discussed overfitting above. It is a common problem in machine learning where models seem to be achieving very high accuracy when training, but then just completely fail in real world settings. This is probably because the model is overfitting to the data and instead of forming a general function that relates diabetes to some attributes (age, bmi, sex, etc.), the model is \"cheating\" and just adjusting to random noise in the data.\n",
        "\n",
        "In essence we want to see how well the model will perform in the real world.  In the real world, the model receives data it has never seen before and it is asked to make predictions about this data.  So the only real way to assess the accuracy of your model is to test it on data it has never seen before. This is what cross validation is. There are many different methods of cross validation, but today we will be discussing the most basic one called the  \"holdout\" method.\n",
        "\n",
        "When we originally receive some data, we keep some aside that we will test the model on in the end. This is the \"test\" set.  Most of the data will be used to train the model so it is the  \"train\" set.  \n",
        "\n",
        "\n",
        "![alt text](https://miro.medium.com/max/2840/1*-8_kogvwmL1H6ooN1A1tsQ.png)\n"
      ]
    },
    {
      "cell_type": "code",
      "metadata": {
        "colab_type": "code",
        "id": "P-oeFORJqI_v",
        "outputId": "539d9135-a08d-4f5d-916f-0bd79843b2b5",
        "colab": {
          "base_uri": "https://localhost:8080/",
          "height": 51
        }
      },
      "source": [
        "from sklearn.model_selection import train_test_split\n",
        "X_train, X_test, y_train, y_test = train_test_split(diabetes.data, diabetes.target, test_size=0.2, random_state=0)\n",
        "print(diabetes.data.shape)\n",
        "X_train.shape"
      ],
      "execution_count": 0,
      "outputs": [
        {
          "output_type": "stream",
          "text": [
            "(442, 10)\n"
          ],
          "name": "stdout"
        },
        {
          "output_type": "execute_result",
          "data": {
            "text/plain": [
              "(353, 10)"
            ]
          },
          "metadata": {
            "tags": []
          },
          "execution_count": 18
        }
      ]
    },
    {
      "cell_type": "markdown",
      "metadata": {
        "id": "LQ9FvNnuqhe5",
        "colab_type": "text"
      },
      "source": [
        "This is what this line of code is doing above. It is splitting the original data into train sets and test sets. If you noticed the shape of the original dataset, it has 442 rows.  In the train_test_split, we specify that the test_size is 0.2.  This means 20% of the data is given to the test set and 80% is set aside for the training set. So when we call X_train.shape, we see that the  training set has 353 rows,  which  is 80% of 442!\n",
        "\n",
        "Another thing to note is when you are splitting the original data, you must randomize the rows you are selecting for training and testing so the model is training and testing on diverse data."
      ]
    },
    {
      "cell_type": "code",
      "metadata": {
        "id": "HvNxFjN_tPLg",
        "colab_type": "code",
        "outputId": "575fee8f-3a57-4c9b-ae16-1ac7099e3384",
        "colab": {
          "base_uri": "https://localhost:8080/",
          "height": 323
        }
      },
      "source": [
        "print(model_final.score(X_train, y_train))\n",
        "print(model_final.score(X_test, y_test))"
      ],
      "execution_count": 0,
      "outputs": [
        {
          "output_type": "error",
          "ename": "ValueError",
          "evalue": "ignored",
          "traceback": [
            "\u001b[0;31m---------------------------------------------------------------------------\u001b[0m",
            "\u001b[0;31mValueError\u001b[0m                                Traceback (most recent call last)",
            "\u001b[0;32m<ipython-input-19-4b49cb58c813>\u001b[0m in \u001b[0;36m<module>\u001b[0;34m()\u001b[0m\n\u001b[0;32m----> 1\u001b[0;31m \u001b[0mprint\u001b[0m\u001b[0;34m(\u001b[0m\u001b[0mmodel_final\u001b[0m\u001b[0;34m.\u001b[0m\u001b[0mscore\u001b[0m\u001b[0;34m(\u001b[0m\u001b[0mX_train\u001b[0m\u001b[0;34m,\u001b[0m \u001b[0my_train\u001b[0m\u001b[0;34m)\u001b[0m\u001b[0;34m)\u001b[0m\u001b[0;34m\u001b[0m\u001b[0;34m\u001b[0m\u001b[0m\n\u001b[0m\u001b[1;32m      2\u001b[0m \u001b[0mprint\u001b[0m\u001b[0;34m(\u001b[0m\u001b[0mmodel_final\u001b[0m\u001b[0;34m.\u001b[0m\u001b[0mscore\u001b[0m\u001b[0;34m(\u001b[0m\u001b[0mX_test\u001b[0m\u001b[0;34m,\u001b[0m \u001b[0my_test\u001b[0m\u001b[0;34m)\u001b[0m\u001b[0;34m)\u001b[0m\u001b[0;34m\u001b[0m\u001b[0;34m\u001b[0m\u001b[0m\n",
            "\u001b[0;32m/usr/local/lib/python3.6/dist-packages/sklearn/base.py\u001b[0m in \u001b[0;36mscore\u001b[0;34m(self, X, y, sample_weight)\u001b[0m\n\u001b[1;32m    406\u001b[0m         \u001b[0;32mfrom\u001b[0m \u001b[0;34m.\u001b[0m\u001b[0mmetrics\u001b[0m \u001b[0;32mimport\u001b[0m \u001b[0mr2_score\u001b[0m\u001b[0;34m\u001b[0m\u001b[0;34m\u001b[0m\u001b[0m\n\u001b[1;32m    407\u001b[0m         \u001b[0;32mfrom\u001b[0m \u001b[0;34m.\u001b[0m\u001b[0mmetrics\u001b[0m\u001b[0;34m.\u001b[0m\u001b[0mregression\u001b[0m \u001b[0;32mimport\u001b[0m \u001b[0m_check_reg_targets\u001b[0m\u001b[0;34m\u001b[0m\u001b[0;34m\u001b[0m\u001b[0m\n\u001b[0;32m--> 408\u001b[0;31m         \u001b[0my_pred\u001b[0m \u001b[0;34m=\u001b[0m \u001b[0mself\u001b[0m\u001b[0;34m.\u001b[0m\u001b[0mpredict\u001b[0m\u001b[0;34m(\u001b[0m\u001b[0mX\u001b[0m\u001b[0;34m)\u001b[0m\u001b[0;34m\u001b[0m\u001b[0;34m\u001b[0m\u001b[0m\n\u001b[0m\u001b[1;32m    409\u001b[0m         \u001b[0;31m# XXX: Remove the check in 0.23\u001b[0m\u001b[0;34m\u001b[0m\u001b[0;34m\u001b[0m\u001b[0;34m\u001b[0m\u001b[0m\n\u001b[1;32m    410\u001b[0m         \u001b[0my_type\u001b[0m\u001b[0;34m,\u001b[0m \u001b[0m_\u001b[0m\u001b[0;34m,\u001b[0m \u001b[0m_\u001b[0m\u001b[0;34m,\u001b[0m \u001b[0m_\u001b[0m \u001b[0;34m=\u001b[0m \u001b[0m_check_reg_targets\u001b[0m\u001b[0;34m(\u001b[0m\u001b[0my\u001b[0m\u001b[0;34m,\u001b[0m \u001b[0my_pred\u001b[0m\u001b[0;34m,\u001b[0m \u001b[0;32mNone\u001b[0m\u001b[0;34m)\u001b[0m\u001b[0;34m\u001b[0m\u001b[0;34m\u001b[0m\u001b[0m\n",
            "\u001b[0;32m/usr/local/lib/python3.6/dist-packages/sklearn/linear_model/base.py\u001b[0m in \u001b[0;36mpredict\u001b[0;34m(self, X)\u001b[0m\n\u001b[1;32m    219\u001b[0m             \u001b[0mReturns\u001b[0m \u001b[0mpredicted\u001b[0m \u001b[0mvalues\u001b[0m\u001b[0;34m.\u001b[0m\u001b[0;34m\u001b[0m\u001b[0;34m\u001b[0m\u001b[0m\n\u001b[1;32m    220\u001b[0m         \"\"\"\n\u001b[0;32m--> 221\u001b[0;31m         \u001b[0;32mreturn\u001b[0m \u001b[0mself\u001b[0m\u001b[0;34m.\u001b[0m\u001b[0m_decision_function\u001b[0m\u001b[0;34m(\u001b[0m\u001b[0mX\u001b[0m\u001b[0;34m)\u001b[0m\u001b[0;34m\u001b[0m\u001b[0;34m\u001b[0m\u001b[0m\n\u001b[0m\u001b[1;32m    222\u001b[0m \u001b[0;34m\u001b[0m\u001b[0m\n\u001b[1;32m    223\u001b[0m     \u001b[0m_preprocess_data\u001b[0m \u001b[0;34m=\u001b[0m \u001b[0mstaticmethod\u001b[0m\u001b[0;34m(\u001b[0m\u001b[0m_preprocess_data\u001b[0m\u001b[0;34m)\u001b[0m\u001b[0;34m\u001b[0m\u001b[0;34m\u001b[0m\u001b[0m\n",
            "\u001b[0;32m/usr/local/lib/python3.6/dist-packages/sklearn/linear_model/base.py\u001b[0m in \u001b[0;36m_decision_function\u001b[0;34m(self, X)\u001b[0m\n\u001b[1;32m    204\u001b[0m         \u001b[0mX\u001b[0m \u001b[0;34m=\u001b[0m \u001b[0mcheck_array\u001b[0m\u001b[0;34m(\u001b[0m\u001b[0mX\u001b[0m\u001b[0;34m,\u001b[0m \u001b[0maccept_sparse\u001b[0m\u001b[0;34m=\u001b[0m\u001b[0;34m[\u001b[0m\u001b[0;34m'csr'\u001b[0m\u001b[0;34m,\u001b[0m \u001b[0;34m'csc'\u001b[0m\u001b[0;34m,\u001b[0m \u001b[0;34m'coo'\u001b[0m\u001b[0;34m]\u001b[0m\u001b[0;34m)\u001b[0m\u001b[0;34m\u001b[0m\u001b[0;34m\u001b[0m\u001b[0m\n\u001b[1;32m    205\u001b[0m         return safe_sparse_dot(X, self.coef_.T,\n\u001b[0;32m--> 206\u001b[0;31m                                dense_output=True) + self.intercept_\n\u001b[0m\u001b[1;32m    207\u001b[0m \u001b[0;34m\u001b[0m\u001b[0m\n\u001b[1;32m    208\u001b[0m     \u001b[0;32mdef\u001b[0m \u001b[0mpredict\u001b[0m\u001b[0;34m(\u001b[0m\u001b[0mself\u001b[0m\u001b[0;34m,\u001b[0m \u001b[0mX\u001b[0m\u001b[0;34m)\u001b[0m\u001b[0;34m:\u001b[0m\u001b[0;34m\u001b[0m\u001b[0;34m\u001b[0m\u001b[0m\n",
            "\u001b[0;32m/usr/local/lib/python3.6/dist-packages/sklearn/utils/extmath.py\u001b[0m in \u001b[0;36msafe_sparse_dot\u001b[0;34m(a, b, dense_output)\u001b[0m\n\u001b[1;32m    140\u001b[0m         \u001b[0;32mreturn\u001b[0m \u001b[0mret\u001b[0m\u001b[0;34m\u001b[0m\u001b[0;34m\u001b[0m\u001b[0m\n\u001b[1;32m    141\u001b[0m     \u001b[0;32melse\u001b[0m\u001b[0;34m:\u001b[0m\u001b[0;34m\u001b[0m\u001b[0;34m\u001b[0m\u001b[0m\n\u001b[0;32m--> 142\u001b[0;31m         \u001b[0;32mreturn\u001b[0m \u001b[0mnp\u001b[0m\u001b[0;34m.\u001b[0m\u001b[0mdot\u001b[0m\u001b[0;34m(\u001b[0m\u001b[0ma\u001b[0m\u001b[0;34m,\u001b[0m \u001b[0mb\u001b[0m\u001b[0;34m)\u001b[0m\u001b[0;34m\u001b[0m\u001b[0;34m\u001b[0m\u001b[0m\n\u001b[0m\u001b[1;32m    143\u001b[0m \u001b[0;34m\u001b[0m\u001b[0m\n\u001b[1;32m    144\u001b[0m \u001b[0;34m\u001b[0m\u001b[0m\n",
            "\u001b[0;31mValueError\u001b[0m: shapes (353,10) and (172,) not aligned: 10 (dim 1) != 172 (dim 0)"
          ]
        }
      ]
    },
    {
      "cell_type": "markdown",
      "metadata": {
        "id": "B3ly3-JFu9Ug",
        "colab_type": "text"
      },
      "source": [
        "As we see here, the test score is significantly lower than the train score showing that our original model did overfit.  This is to be expected, since we didn't add anything to our model to prevent it from overfitting. But at least we know what the true score of this model will be in the real world and we can work to improve it, rather than getting false high hopes by just going off of the training score."
      ]
    },
    {
      "cell_type": "markdown",
      "metadata": {
        "colab_type": "text",
        "id": "zAyq75_TiGon"
      },
      "source": [
        "#Video!"
      ]
    },
    {
      "cell_type": "code",
      "metadata": {
        "id": "c1U4Fzb7idCW",
        "colab_type": "code",
        "colab": {}
      },
      "source": [
        "from IPython.display import YouTubeVideo\n",
        "YouTubeVideo('JMLsHI8aV0g')"
      ],
      "execution_count": 0,
      "outputs": []
    }
  ]
}